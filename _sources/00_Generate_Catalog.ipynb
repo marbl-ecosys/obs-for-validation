{
 "cells": [
  {
   "cell_type": "markdown",
   "id": "3c7add7e-df6e-45df-8e04-b396c05ebd20",
   "metadata": {},
   "source": [
    "# 00 - Build an Intake-ESM Catalog"
   ]
  },
  {
   "cell_type": "code",
   "execution_count": 1,
   "id": "0c32e443-a7ef-42ed-958a-3e3b643d4080",
   "metadata": {},
   "outputs": [],
   "source": [
    "import yaml\n",
    "\n",
    "from ecgtools import Builder\n",
    "from ecgtools.parsers.cesm import parse_cesm_timeseries\n",
    "import pandas as pd"
   ]
  },
  {
   "cell_type": "code",
   "execution_count": 2,
   "id": "2bf8337a-0e62-4d0f-8b8a-0ab550263fa1",
   "metadata": {},
   "outputs": [],
   "source": [
    "with open(\"case_config.yml\", mode=\"r\") as fptr:\n",
    "    case_config = yaml.safe_load(fptr)"
   ]
  },
  {
   "cell_type": "code",
   "execution_count": 3,
   "id": "69d3ef0d-cb67-4952-a298-1cd1706da512",
   "metadata": {},
   "outputs": [],
   "source": [
    "def build_catalog(path):\n",
    "    b = Builder(\n",
    "        # Directory with the output\n",
    "        path,\n",
    "        # Depth of 1 since we are sending it to the case output directory\n",
    "        depth=1,\n",
    "        # Exclude the timeseries and restart directories\n",
    "        exclude_patterns=[\"*/hist/*\", \"*/rest/*\"],\n",
    "        # Number of jobs to execute - should be equal to # threads you are using\n",
    "        njobs=-1,\n",
    "    )\n",
    "    \n",
    "    return b.build(parse_cesm_timeseries)"
   ]
  },
  {
   "cell_type": "code",
   "execution_count": 4,
   "id": "31954b25-b5d2-4600-af40-4a700d0f068e",
   "metadata": {},
   "outputs": [],
   "source": [
    "cases = case_config['catalog_gen_path']"
   ]
  },
  {
   "cell_type": "code",
   "execution_count": 5,
   "id": "b5eb51ee-f3ea-4250-b143-38229b583ad2",
   "metadata": {},
   "outputs": [
    {
     "name": "stderr",
     "output_type": "stream",
     "text": [
      "[Parallel(n_jobs=-1)]: Using backend LokyBackend with 2 concurrent workers.\n",
      "[Parallel(n_jobs=-1)]: Done   2 out of   4 | elapsed:    0.7s remaining:    0.7s\n",
      "[Parallel(n_jobs=-1)]: Done   4 out of   4 | elapsed:    1.2s remaining:    0.0s\n",
      "[Parallel(n_jobs=-1)]: Done   4 out of   4 | elapsed:    1.2s finished\n",
      "[Parallel(n_jobs=-1)]: Using backend LokyBackend with 2 concurrent workers.\n",
      "[Parallel(n_jobs=-1)]: Done  14 tasks      | elapsed:    2.6s\n",
      "[Parallel(n_jobs=-1)]: Done  68 tasks      | elapsed:    6.2s\n",
      "[Parallel(n_jobs=-1)]: Done 158 tasks      | elapsed:   12.2s\n",
      "[Parallel(n_jobs=-1)]: Done 284 tasks      | elapsed:   19.9s\n",
      "[Parallel(n_jobs=-1)]: Done 446 tasks      | elapsed:   30.2s\n",
      "[Parallel(n_jobs=-1)]: Done 644 tasks      | elapsed:   43.2s\n",
      "[Parallel(n_jobs=-1)]: Done 878 tasks      | elapsed:   58.3s\n",
      "[Parallel(n_jobs=-1)]: Done 1148 tasks      | elapsed:  1.3min\n",
      "[Parallel(n_jobs=-1)]: Done 1454 tasks      | elapsed:  1.6min\n",
      "[Parallel(n_jobs=-1)]: Done 1796 tasks      | elapsed:  2.0min\n",
      "[Parallel(n_jobs=-1)]: Done 2174 tasks      | elapsed:  2.5min\n",
      "[Parallel(n_jobs=-1)]: Done 2588 tasks      | elapsed:  3.0min\n",
      "[Parallel(n_jobs=-1)]: Done 3038 tasks      | elapsed:  3.5min\n",
      "[Parallel(n_jobs=-1)]: Done 3524 tasks      | elapsed:  4.1min\n",
      "[Parallel(n_jobs=-1)]: Done 4046 tasks      | elapsed:  4.7min\n",
      "[Parallel(n_jobs=-1)]: Done 4604 tasks      | elapsed:  5.4min\n",
      "[Parallel(n_jobs=-1)]: Done 5198 tasks      | elapsed:  6.1min\n",
      "[Parallel(n_jobs=-1)]: Done 5828 tasks      | elapsed:  6.9min\n",
      "[Parallel(n_jobs=-1)]: Done 6494 tasks      | elapsed:  7.7min\n",
      "[Parallel(n_jobs=-1)]: Done 7196 tasks      | elapsed:  9.4min\n",
      "[Parallel(n_jobs=-1)]: Done 7934 tasks      | elapsed: 10.6min\n",
      "[Parallel(n_jobs=-1)]: Done 8708 tasks      | elapsed: 11.6min\n",
      "[Parallel(n_jobs=-1)]: Done 9518 tasks      | elapsed: 12.6min\n",
      "[Parallel(n_jobs=-1)]: Done 10364 tasks      | elapsed: 13.7min\n",
      "[Parallel(n_jobs=-1)]: Done 11246 tasks      | elapsed: 14.9min\n",
      "[Parallel(n_jobs=-1)]: Done 12164 tasks      | elapsed: 16.3min\n",
      "[Parallel(n_jobs=-1)]: Done 13118 tasks      | elapsed: 17.5min\n",
      "[Parallel(n_jobs=-1)]: Done 14394 tasks      | elapsed: 18.9min\n",
      "[Parallel(n_jobs=-1)]: Done 16064 out of 16064 | elapsed: 20.2min finished\n",
      "/glade/work/mgrover/miniconda3/envs/obs-validation-dev/lib/python3.9/site-packages/ecgtools/builder.py:179: UserWarning: Unable to parse 36 assets/files. A list of these assets can be found in `.invalid_assets` attribute.\n",
      "  self.get_directories().get_filelist()._parse(\n"
     ]
    }
   ],
   "source": [
    "df_list = []\n",
    "for case in cases:\n",
    "    b = build_catalog(case)\n",
    "    df_list.append(b.df)"
   ]
  },
  {
   "cell_type": "code",
   "execution_count": 6,
   "id": "0caacf0b-63d7-4acd-9561-37f5fbdf8f82",
   "metadata": {},
   "outputs": [],
   "source": [
    "b.df = pd.concat(df_list)"
   ]
  },
  {
   "cell_type": "code",
   "execution_count": 8,
   "id": "f5b42383-0dff-407b-b1d2-1b1a1585a864",
   "metadata": {},
   "outputs": [
    {
     "name": "stdout",
     "output_type": "stream",
     "text": [
      "Saved catalog location: ../data/hires_catalog.json and ../data/hires_catalog.csv\n"
     ]
    },
    {
     "name": "stderr",
     "output_type": "stream",
     "text": [
      "/glade/scratch/mgrover/ipykernel_67924/57670825.py:1: UserWarning: Unable to parse 36 assets/files. A list of these assets can be found in ../data/invalid_assets_hires_catalog.csv.\n",
      "  b.save(\n"
     ]
    }
   ],
   "source": [
    "b.save(\n",
    "    '../data/hires_catalog.csv',\n",
    "    # Column name including filepath\n",
    "    path_column_name='path',\n",
    "    # Column name including variables\n",
    "    variable_column_name='variable',\n",
    "    # Data file format - could be netcdf or zarr (in this case, netcdf)\n",
    "    data_format=\"netcdf\",\n",
    "    # Which attributes to groupby when reading in variables using intake-esm\n",
    "    groupby_attrs=[\"component\", \"stream\", \"case\"],\n",
    "    # Aggregations which are fed into xarray when reading in data using intake\n",
    "    aggregations=[\n",
    "        {\n",
    "            \"type\": \"join_existing\",\n",
    "            \"attribute_name\": \"time_range\",\n",
    "            \"options\": {\"dim\": \"time\", \"coords\": \"minimal\", \"compat\": \"override\"},\n",
    "        }\n",
    "    ],\n",
    ")"
   ]
  },
  {
   "cell_type": "code",
   "execution_count": null,
   "id": "bc0579f1-861f-42e0-8e69-fa2db65dfc90",
   "metadata": {},
   "outputs": [],
   "source": []
  }
 ],
 "metadata": {
  "kernelspec": {
   "display_name": "Python [conda env:miniconda3-obs-validation-dev]",
   "language": "python",
   "name": "conda-env-miniconda3-obs-validation-dev-py"
  },
  "language_info": {
   "codemirror_mode": {
    "name": "ipython",
    "version": 3
   },
   "file_extension": ".py",
   "mimetype": "text/x-python",
   "name": "python",
   "nbconvert_exporter": "python",
   "pygments_lexer": "ipython3",
   "version": "3.9.6"
  }
 },
 "nbformat": 4,
 "nbformat_minor": 5
}
